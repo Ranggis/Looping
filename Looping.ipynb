{
 "cells": [
  {
   "cell_type": "code",
   "execution_count": 6,
   "id": "27cebc7d",
   "metadata": {},
   "outputs": [
    {
     "name": "stdout",
     "output_type": "stream",
     "text": [
      "1\n",
      "2\n",
      "3\n",
      "4\n",
      "5\n",
      "6\n",
      "7\n",
      "8\n",
      "9\n",
      "10\n"
     ]
    }
   ],
   "source": [
    "# for in range\n",
    "# print 1 - 10\n",
    "\n",
    "for i in range(1,11):\n",
    "    print (i)   "
   ]
  },
  {
   "cell_type": "code",
   "execution_count": 8,
   "id": "fdcb9bfe",
   "metadata": {},
   "outputs": [
    {
     "name": "stdout",
     "output_type": "stream",
     "text": [
      "10\n",
      "20\n",
      "30\n",
      "40\n",
      "50\n",
      "60\n",
      "70\n",
      "80\n",
      "90\n",
      "100\n"
     ]
    }
   ],
   "source": [
    "# print 10 20 30 40 50 ... 100\n",
    "\n",
    "for i in range(1,11):\n",
    "    print (i*10)"
   ]
  },
  {
   "cell_type": "code",
   "execution_count": 14,
   "id": "88f51f62",
   "metadata": {},
   "outputs": [
    {
     "name": "stdout",
     "output_type": "stream",
     "text": [
      "10\n",
      "20\n",
      "30\n",
      "40\n",
      "50\n",
      "60\n",
      "70\n",
      "80\n",
      "90\n",
      "100\n"
     ]
    }
   ],
   "source": [
    "for i in range(10,110,10):\n",
    "    print (i)"
   ]
  },
  {
   "cell_type": "code",
   "execution_count": 21,
   "id": "cecae12a",
   "metadata": {},
   "outputs": [
    {
     "name": "stdout",
     "output_type": "stream",
     "text": [
      "10\n",
      "9\n",
      "8\n",
      "7\n",
      "6\n",
      "5\n",
      "4\n",
      "3\n",
      "2\n",
      "1\n"
     ]
    }
   ],
   "source": [
    "# 10 9 8 7 ... 1\n",
    "\n",
    "for i in range(10,0,-1):\n",
    "    print(i)"
   ]
  },
  {
   "cell_type": "code",
   "execution_count": 32,
   "id": "9fb3e68f",
   "metadata": {},
   "outputs": [
    {
     "name": "stdout",
     "output_type": "stream",
     "text": [
      "1\n",
      "-2\n",
      "3\n",
      "-4\n",
      "5\n",
      "-6\n",
      "7\n",
      "-8\n",
      "9\n",
      "-10\n"
     ]
    }
   ],
   "source": [
    "# 1 -2 3 -4 5 -6 7 -8 9 -10\n",
    "\n",
    "sign = 1\n",
    "for i in range(1,11):\n",
    "    print (i*sign)\n",
    "    sign *= -1                                                                                                "
   ]
  },
  {
   "cell_type": "code",
   "execution_count": 45,
   "id": "06a4751d",
   "metadata": {},
   "outputs": [
    {
     "name": "stdout",
     "output_type": "stream",
     "text": [
      "isikan bilangan:8\n",
      "factorial dari 8 adalah 40320\n"
     ]
    }
   ],
   "source": [
    "# factorial => input 4! = 4* 2* 3* 1 = 24\n",
    "\n",
    "number = int(input('isikan bilangan:'))\n",
    "\n",
    "result = 1\n",
    "for i in range (1,number+1):\n",
    "    result = result * i\n",
    "    \n",
    "print(f\"factorial dari {number} adalah {result}\")"
   ]
  },
  {
   "cell_type": "code",
   "execution_count": 47,
   "id": "055d0de7",
   "metadata": {},
   "outputs": [
    {
     "name": "stdout",
     "output_type": "stream",
     "text": [
      "isikan bilangan : 8\n",
      "isikan pangkat : 3\n",
      "8 pangkat 3 adalah 512\n"
     ]
    }
   ],
   "source": [
    "# pangkat \n",
    "\n",
    "number = int(input('isikan bilangan : '))\n",
    "pangkat = int(input('isikan pangkat : '))\n",
    "\n",
    "result = 1\n",
    "for i in range (1,pangkat+1):\n",
    "    result = result * number\n",
    "\n",
    "print (f\"{number} pangkat {pangkat} adalah {result}\")"
   ]
  },
  {
   "cell_type": "code",
   "execution_count": 64,
   "id": "3a34b64c",
   "metadata": {},
   "outputs": [
    {
     "name": "stdout",
     "output_type": "stream",
     "text": [
      "isi bilangan : 3\n",
      " 3 adalah bilangan prima\n"
     ]
    }
   ],
   "source": [
    "# cek bilangan prima \n",
    "# bil. prima adalah bilangan yang hanya habis di bagi dengan bil itu sendiri dan 1\n",
    "\n",
    "# bil. prima punya 2 faktor\n",
    "\n",
    "# jika faktor % i== 0 makan nilai faktor di increment(+1)\n",
    "# setelah selesai perulangan, jika faktor == 2 maka bilangan prima\n",
    "\n",
    "number = int(input('isi bilangan : '))\n",
    "faktor = 0\n",
    "for i in range (1,number+1):\n",
    "    sisa = number % 1\n",
    "    if number % i == 0:\n",
    "        faktor = faktor + 1 \n",
    "\n",
    "if faktor == 2:\n",
    "    keterangan = \"bilangan prima\"\n",
    "else:\n",
    "    keterangan = \"bukan bilangan prima\"\n",
    "print (f\" {number} adalah {keterangan}\")\n"
   ]
  },
  {
   "cell_type": "code",
   "execution_count": 71,
   "id": "e946b9c6",
   "metadata": {},
   "outputs": [
    {
     "name": "stdout",
     "output_type": "stream",
     "text": [
      "22\n",
      "U\n",
      "N\n",
      "I\n",
      "V\n",
      "E\n",
      "R\n",
      "S\n",
      "I\n",
      "T\n",
      "A\n",
      "S\n",
      " \n",
      "N\n",
      "U\n",
      "S\n",
      "A\n",
      " \n",
      "P\n",
      "U\n",
      "T\n",
      "R\n",
      "A\n",
      "22\n",
      "U\n",
      "0 U\n",
      "1 N\n",
      "2 I\n",
      "3 V\n",
      "4 E\n",
      "5 R\n",
      "6 S\n",
      "7 I\n",
      "8 T\n",
      "9 A\n",
      "10 S\n",
      "11  \n",
      "12 N\n",
      "13 U\n",
      "14 S\n",
      "15 A\n",
      "16  \n",
      "17 P\n",
      "18 U\n",
      "19 T\n",
      "20 R\n",
      "21 A\n"
     ]
    }
   ],
   "source": [
    "kampus = \"UNIVERSITAS NUSA PUTRA\"\n",
    "print(len(kampus))\n",
    "\n",
    "for i in kampus:\n",
    "    print(i)  \n",
    "\n",
    "print(len(kampus))\n",
    "print(kampus[0])\n",
    "for i,huruf in enumerate(kampus):\n",
    "    print(i,huruf)"
   ]
  },
  {
   "cell_type": "code",
   "execution_count": 83,
   "id": "268c02d0",
   "metadata": {},
   "outputs": [
    {
     "name": "stdout",
     "output_type": "stream",
     "text": [
      "jumlah huruf vokal a:3\n",
      "jumlah huruf vokal i:2\n",
      "jumlah huruf vokal u:3\n",
      "jumlah huruf vokal e:1\n",
      "jumlah huruf vokal o:0\n",
      "jumlah huruf vokal 9\n"
     ]
    }
   ],
   "source": [
    "# menghitung jumlah huruf vokal\n",
    "\n",
    "kampus = \"UNIVERSITAS NUSA PUTRA\" # panjang 22\n",
    "panjang = len(kampus)\n",
    "\n",
    "vokal_a = 0;\n",
    "vokal_i= 0;\n",
    "vokal_u= 0;\n",
    "vokal_e= 0;\n",
    "vokal_o= 0;\n",
    "\n",
    "for i in range (0,panjang):\n",
    "    if kampus[i]=='a' or kampus[i]==\"A\" :\n",
    "        vokal_a +=1\n",
    "    elif kampus[i]=='i' or kampus[i]==\"I\" :\n",
    "        vokal_i +=1\n",
    "    elif kampus[i]=='u' or kampus[i]==\"U\" :\n",
    "        vokal_u +=1\n",
    "    elif kampus[i]=='e' or kampus[i]==\"E\" :\n",
    "        vokal_e +=1\n",
    "    elif kampus[i]=='o' or kampus[i]==\"O\" :\n",
    "        vokal_o+=1\n",
    "    \n",
    "\n",
    "print(f\"jumlah huruf vokal a:{vokal_a}\")\n",
    "print(f\"jumlah huruf vokal i:{vokal_i}\")\n",
    "print(f\"jumlah huruf vokal u:{vokal_u}\")\n",
    "print(f\"jumlah huruf vokal e:{vokal_e}\")\n",
    "print(f\"jumlah huruf vokal o:{vokal_o}\")\n",
    "print(f\"jumlah huruf vokal {vokal_a + vokal_i + vokal_u + vokal_e + vokal_o}\")\n"
   ]
  },
  {
   "cell_type": "code",
   "execution_count": 124,
   "id": "6d4609f7",
   "metadata": {},
   "outputs": [
    {
     "name": "stdout",
     "output_type": "stream",
     "text": [
      "isikan kalimat : AKU\n",
      "AKU Palindrome\n",
      "apakah mau mengulang program? :Y/T y\n",
      "isikan kalimat : AKu\n",
      "AKu Palindrome\n",
      "apakah mau mengulang program? :Y/T t\n"
     ]
    }
   ],
   "source": [
    "ulang = \"Y\"\n",
    "while (ulang == \"Y\" or ulang==\"y\"):\n",
    "    \n",
    "    kalimat = input(\"isikan kalimat : \")\n",
    "    panjang_kalimat =len(kalimat)\n",
    "\n",
    "# pal indrome => kalimat yang di baca dari kiri > kanan dan kanan > kiri itu sama\n",
    "# aku => uka\n",
    "\n",
    "    isPalindrome = True\n",
    "    for i in range(0,panjang_kalimat):\n",
    "        urut = kalimat[i]\n",
    "        kebalikan = kalimat[panjang_kalimat -i -1]\n",
    "        if urut != kebalikan :\n",
    "            isPalindrom = False\n",
    "            break\n",
    "        \n",
    "    if isPalindrome==True:\n",
    "        print(f\"{kalimat} Palindrome\")\n",
    "    else:.x\n",
    "        print(f\" {kalimat} Bukan Palindrome\")\n",
    "    ulang = input(\"apakah mau mengulang program? :Y/T \")\n",
    "    "
   ]
  },
  {
   "cell_type": "code",
   "execution_count": 126,
   "id": "df0133ad",
   "metadata": {},
   "outputs": [
    {
     "name": "stdout",
     "output_type": "stream",
     "text": [
      "i: 1 dan j : 1\n",
      "i: 1 dan j : 2\n",
      "i: 1 dan j : 3\n",
      "i: 1 dan j : 4\n",
      "i: 2 dan j : 1\n",
      "i: 2 dan j : 2\n",
      "i: 2 dan j : 3\n",
      "i: 2 dan j : 4\n",
      "i: 3 dan j : 1\n",
      "i: 3 dan j : 2\n",
      "i: 3 dan j : 3\n",
      "i: 3 dan j : 4\n",
      "i: 4 dan j : 1\n",
      "i: 4 dan j : 2\n",
      "i: 4 dan j : 3\n",
      "i: 4 dan j : 4\n"
     ]
    }
   ],
   "source": [
    "# Nested for\n",
    "\n",
    "for i in range(1,5):\n",
    "    for j in range(1,5):\n",
    "        print(f\"i: {i} dan j : {j}\")"
   ]
  }
 ],
 "metadata": {
  "kernelspec": {
   "display_name": "Python 3 (ipykernel)",
   "language": "python",
   "name": "python3"
  },
  "language_info": {
   "codemirror_mode": {
    "name": "ipython",
    "version": 3
   },
   "file_extension": ".py",
   "mimetype": "text/x-python",
   "name": "python",
   "nbconvert_exporter": "python",
   "pygments_lexer": "ipython3",
   "version": "3.9.12"
  }
 },
 "nbformat": 4,
 "nbformat_minor": 5
}
